{
 "cells": [
  {
   "cell_type": "code",
   "execution_count": 1,
   "metadata": {},
   "outputs": [],
   "source": [
    "#import fastbook\n",
    "#from fastbook import *\n",
    "from fastai.vision.all import *\n",
    "from fastai.vision.widgets import *"
   ]
  },
  {
   "cell_type": "code",
   "execution_count": 3,
   "metadata": {},
   "outputs": [],
   "source": [
    "path = Path()"
   ]
  },
  {
   "cell_type": "code",
   "execution_count": 4,
   "metadata": {},
   "outputs": [],
   "source": [
    "learn_inf = load_learner(path/'export.pkl')"
   ]
  },
  {
   "cell_type": "code",
   "execution_count": 5,
   "metadata": {},
   "outputs": [],
   "source": [
    "intro_label = \"<h2>Ghana Cash Crop Classification App</h2>\""
   ]
  },
  {
   "cell_type": "code",
   "execution_count": 6,
   "metadata": {},
   "outputs": [],
   "source": [
    "opn_labl = widgets.HTML(value = intro_label, layout=Layout(margin=\"20px 0px 20px 0px\"))"
   ]
  },
  {
   "cell_type": "code",
   "execution_count": 18,
   "metadata": {},
   "outputs": [],
   "source": [
    "dscrip_label =  \"<p><h3>Instructions: Upload a photo of pineapple, cocoa or beans then push the classify button to get immediate result :)</h3></p><p>Agricultural products are one of the <b>key</b> exports in Ghana. Despite The sector employing over 30% of the labour force in Ghana, It is seriously under-funded. The main idea of this app is to encourage people who are interested in agriculture investments to upload any crop they think they are willing to invest in. Our App will give you a quick response whether the uploaded crop is in the top tier of cash crops in Ghana. This will save you lots of money on your investments. Invest wisely with Ghana cash crop Classification app :)</p><hr>\""
   ]
  },
  {
   "cell_type": "code",
   "execution_count": 8,
   "metadata": {},
   "outputs": [],
   "source": [
    "bgen_prgraph = widgets.HTML(value = dscrip_label)"
   ]
  },
  {
   "cell_type": "code",
   "execution_count": 9,
   "metadata": {
    "scrolled": true
   },
   "outputs": [],
   "source": [
    "btn_upload = widgets.FileUpload(description='Upload Crop',icon='', layout=Layout(width='50%', height='50px',margin='20px 0px 20px 0px'))\n",
    "btn_upload.style.button_color = '#F3DFCB'\n",
    "btn_upload.style.font_weight='bold'"
   ]
  },
  {
   "cell_type": "code",
   "execution_count": 10,
   "metadata": {},
   "outputs": [],
   "source": [
    "out_pl = widgets.Output(layout=Layout(display='flex',align_items='center',justify_content='center'))"
   ]
  },
  {
   "cell_type": "code",
   "execution_count": 11,
   "metadata": {},
   "outputs": [],
   "source": [
    "btn_click = widgets.Button(description=\"Classify This Crop\", button_style=\"success\",icon='', layout=Layout(width='25%',height='50px',margin='10px 0px 20px 0px'))\n",
    "btn_click.style.button_color='#B9EBF3'\n",
    "btn_click.style.font_weight = 'bold'"
   ]
  },
  {
   "cell_type": "code",
   "execution_count": 12,
   "metadata": {},
   "outputs": [],
   "source": [
    "lbl_pred = widgets.HTML()"
   ]
  },
  {
   "cell_type": "code",
   "execution_count": 13,
   "metadata": {},
   "outputs": [],
   "source": [
    "def on_click_classify(change):\n",
    "    img = PILImage.create(btn_upload.data[-1])\n",
    "    out_pl.clear_output()\n",
    "    with out_pl:\n",
    "        display(img.to_thumb(500,500))\n",
    "    pred,pred_ind,prob = learn_inf.predict(img)\n",
    "    lbl_pred.value = f'<h2><mark><em>I am {prob[pred_ind]*100:.00f}% Sure! this is <ins><i>{pred}<i></ins>. Invest in this Crop!</em>.</mark></h2>'\n",
    "btn_click.on_click(on_click_classify)"
   ]
  },
  {
   "cell_type": "code",
   "execution_count": 14,
   "metadata": {},
   "outputs": [],
   "source": [
    "box = widgets.VBox([opn_labl,bgen_prgraph,btn_upload,btn_click,out_pl,lbl_pred])"
   ]
  },
  {
   "cell_type": "code",
   "execution_count": 15,
   "metadata": {},
   "outputs": [],
   "source": [
    "box.layout = Layout(display='flex',align_items='center',justify_content='center')"
   ]
  },
  {
   "cell_type": "code",
   "execution_count": 16,
   "metadata": {},
   "outputs": [
    {
     "data": {
      "application/vnd.jupyter.widget-view+json": {
       "model_id": "982c71cb158742f4a234a676c87bc198",
       "version_major": 2,
       "version_minor": 0
      },
      "text/plain": [
       "VBox(children=(HTML(value='<h2>Ghana Cash Crop Classification App</h2>', layout=Layout(margin='20px 0px 20px 0…"
      ]
     },
     "metadata": {},
     "output_type": "display_data"
    }
   ],
   "source": [
    "display(box)"
   ]
  },
  {
   "cell_type": "code",
   "execution_count": null,
   "metadata": {},
   "outputs": [],
   "source": []
  }
 ],
 "metadata": {
  "kernelspec": {
   "display_name": "Python 3",
   "language": "python",
   "name": "python3"
  },
  "language_info": {
   "codemirror_mode": {
    "name": "ipython",
    "version": 3
   },
   "file_extension": ".py",
   "mimetype": "text/x-python",
   "name": "python",
   "nbconvert_exporter": "python",
   "pygments_lexer": "ipython3",
   "version": "3.8.6"
  }
 },
 "nbformat": 4,
 "nbformat_minor": 4
}
